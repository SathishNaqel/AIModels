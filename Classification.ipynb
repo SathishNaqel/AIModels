{
  "nbformat": 4,
  "nbformat_minor": 0,
  "metadata": {
    "colab": {
      "provenance": [],
      "authorship_tag": "ABX9TyN/RcqGYwGU+DF2LirC73Pc",
      "include_colab_link": true
    },
    "kernelspec": {
      "name": "python3",
      "display_name": "Python 3"
    },
    "language_info": {
      "name": "python"
    }
  },
  "cells": [
    {
      "cell_type": "markdown",
      "metadata": {
        "id": "view-in-github",
        "colab_type": "text"
      },
      "source": [
        "<a href=\"https://colab.research.google.com/github/SathishNaqel/AIModels/blob/main/Classification.ipynb\" target=\"_parent\"><img src=\"https://colab.research.google.com/assets/colab-badge.svg\" alt=\"Open In Colab\"/></a>"
      ]
    },
    {
      "cell_type": "code",
      "execution_count": null,
      "metadata": {
        "id": "RKfhkSa9mMlz"
      },
      "outputs": [],
      "source": [
        "!pip install transformers"
      ]
    },
    {
      "cell_type": "markdown",
      "source": [
        "Shutter Stock"
      ],
      "metadata": {
        "id": "tbWOwhka67T0"
      }
    },
    {
      "cell_type": "code",
      "source": [
        "from transformers import pipeline\n",
        "\n",
        "classifier = pipeline(\"zero-shot-classification\")\n",
        "\n",
        "res = classifier(\n",
        "    \"a close up view of a green plant\",\n",
        "    candidate_labels=['Abstract',\n",
        "'Animals/Wildlife',\n",
        "'Backgrounds/Textures',\n",
        "'Beauty/Fashion',\n",
        "'Buildings/Landmarks',\n",
        "'Business/Finance',\n",
        "'Celebrities',\n",
        "'Education',\n",
        "'Food and Drink',\n",
        "'Healthcare/Medical',\n",
        "'Holidays',\n",
        "'Industrial',\n",
        "'Interiors',\n",
        "'Miscellaneous',\n",
        "'Nature',\n",
        "'Objects',\n",
        "'Parks/Outdoor',\n",
        "'People',\n",
        "'Religion',\n",
        "'Science',\n",
        "'Signs/Symbols',\n",
        "'Sports/Recreation',\n",
        "'Technology',\n",
        "'The Arts',\n",
        "'Transportation',\n",
        "'Vintage',]\n",
        ")\n",
        "\n",
        "print(res)\n",
        "print(res['labels'])\n",
        "print(res['scores'])"
      ],
      "metadata": {
        "colab": {
          "base_uri": "https://localhost:8080/"
        },
        "id": "6Rd56FTkmNFJ",
        "outputId": "15ec960d-5385-40ea-9b58-901dd24eacd5"
      },
      "execution_count": 4,
      "outputs": [
        {
          "output_type": "stream",
          "name": "stderr",
          "text": [
            "No model was supplied, defaulted to facebook/bart-large-mnli and revision c626438 (https://huggingface.co/facebook/bart-large-mnli).\n",
            "Using a pipeline without specifying a model name and revision in production is not recommended.\n"
          ]
        },
        {
          "output_type": "stream",
          "name": "stdout",
          "text": [
            "{'sequence': 'a close up view of a green plant', 'labels': ['Nature', 'Objects', 'Vintage', 'Abstract', 'Parks/Outdoor', 'Backgrounds/Textures', 'Science', 'Signs/Symbols', 'Interiors', 'Animals/Wildlife', 'Industrial', 'Miscellaneous', 'Sports/Recreation', 'Buildings/Landmarks', 'Beauty/Fashion', 'The Arts', 'Education', 'Holidays', 'People', 'Transportation', 'Technology', 'Business/Finance', 'Healthcare/Medical', 'Food and Drink', 'Celebrities', 'Religion'], 'scores': [0.23672710359096527, 0.1808856576681137, 0.06618679314851761, 0.05885590612888336, 0.057392776012420654, 0.052835896611213684, 0.041609182953834534, 0.03694872558116913, 0.024128930643200874, 0.021046066656708717, 0.019476111978292465, 0.018456418067216873, 0.018391355872154236, 0.017739927396178246, 0.01747441664338112, 0.016340967267751694, 0.01617329940199852, 0.016022931784391403, 0.0129945557564497, 0.012685734778642654, 0.01243379432708025, 0.010460360907018185, 0.009380309842526913, 0.009193248115479946, 0.008375673554837704, 0.007783809676766396]}\n",
            "['Nature', 'Objects', 'Vintage', 'Abstract', 'Parks/Outdoor', 'Backgrounds/Textures', 'Science', 'Signs/Symbols', 'Interiors', 'Animals/Wildlife', 'Industrial', 'Miscellaneous', 'Sports/Recreation', 'Buildings/Landmarks', 'Beauty/Fashion', 'The Arts', 'Education', 'Holidays', 'People', 'Transportation', 'Technology', 'Business/Finance', 'Healthcare/Medical', 'Food and Drink', 'Celebrities', 'Religion']\n",
            "[0.23672710359096527, 0.1808856576681137, 0.06618679314851761, 0.05885590612888336, 0.057392776012420654, 0.052835896611213684, 0.041609182953834534, 0.03694872558116913, 0.024128930643200874, 0.021046066656708717, 0.019476111978292465, 0.018456418067216873, 0.018391355872154236, 0.017739927396178246, 0.01747441664338112, 0.016340967267751694, 0.01617329940199852, 0.016022931784391403, 0.0129945557564497, 0.012685734778642654, 0.01243379432708025, 0.010460360907018185, 0.009380309842526913, 0.009193248115479946, 0.008375673554837704, 0.007783809676766396]\n"
          ]
        }
      ]
    },
    {
      "cell_type": "markdown",
      "source": [
        "Adobe Classification"
      ],
      "metadata": {
        "id": "S06PJvZC6-ZB"
      }
    },
    {
      "cell_type": "code",
      "source": [
        "from transformers import pipeline\n",
        "\n",
        "classifier = pipeline(\"zero-shot-classification\")\n",
        "\n",
        "res = classifier(\n",
        "    \"a close up view of a green plant\",\n",
        "    candidate_labels=['Animals',\n",
        "'Buildings and Architecture',\n",
        "'Business',\n",
        "'Drinks',\n",
        "'Environment',\n",
        "'Feelings, Emotions and State of Mind',\n",
        "'Food',\n",
        "'Graphic Elements',\n",
        "'Hobbies and free time',\n",
        "'Industry',\n",
        "'Landscapes',\n",
        "'Style',\n",
        "'people',\n",
        "'Plants and flowers',\n",
        "'Religion and Culture',\n",
        "'Science',\n",
        "'Social Issues',\n",
        "'Sports',\n",
        "'Technology',\n",
        "'Transportation',\n",
        "'Travel',]\n",
        ")\n",
        "\n",
        "print(res)\n",
        "print(res['labels'])\n",
        "print(res['scores'])"
      ],
      "metadata": {
        "id": "RZ7Laor0vEDi",
        "outputId": "6293e7dc-8679-41a1-d1fb-9e3990910521",
        "colab": {
          "base_uri": "https://localhost:8080/"
        }
      },
      "execution_count": 5,
      "outputs": [
        {
          "output_type": "stream",
          "name": "stderr",
          "text": [
            "No model was supplied, defaulted to facebook/bart-large-mnli and revision c626438 (https://huggingface.co/facebook/bart-large-mnli).\n",
            "Using a pipeline without specifying a model name and revision in production is not recommended.\n"
          ]
        },
        {
          "output_type": "stream",
          "name": "stdout",
          "text": [
            "{'sequence': 'a close up view of a green plant', 'labels': ['Plants and flowers', 'Style', 'Environment', 'Landscapes', 'Graphic Elements', 'Science', 'Travel', 'Feelings, Emotions and State of Mind', 'Hobbies and free time', 'Sports', 'Social Issues', 'Animals', 'Transportation', 'Technology', 'Buildings and Architecture', 'Drinks', 'people', 'Religion and Culture', 'Industry', 'Food', 'Business'], 'scores': [0.19735418260097504, 0.1456867754459381, 0.11157603561878204, 0.11147133260965347, 0.1053818091750145, 0.04930863529443741, 0.03153735399246216, 0.029791463166475296, 0.028345517814159393, 0.023514524102211, 0.0213223397731781, 0.019398754462599754, 0.015033128671348095, 0.014734569005668163, 0.01451289001852274, 0.014361678622663021, 0.014329113066196442, 0.014322018250823021, 0.013430846855044365, 0.0130564384162426, 0.011530568823218346]}\n",
            "['Plants and flowers', 'Style', 'Environment', 'Landscapes', 'Graphic Elements', 'Science', 'Travel', 'Feelings, Emotions and State of Mind', 'Hobbies and free time', 'Sports', 'Social Issues', 'Animals', 'Transportation', 'Technology', 'Buildings and Architecture', 'Drinks', 'people', 'Religion and Culture', 'Industry', 'Food', 'Business']\n",
            "[0.19735418260097504, 0.1456867754459381, 0.11157603561878204, 0.11147133260965347, 0.1053818091750145, 0.04930863529443741, 0.03153735399246216, 0.029791463166475296, 0.028345517814159393, 0.023514524102211, 0.0213223397731781, 0.019398754462599754, 0.015033128671348095, 0.014734569005668163, 0.01451289001852274, 0.014361678622663021, 0.014329113066196442, 0.014322018250823021, 0.013430846855044365, 0.0130564384162426, 0.011530568823218346]\n"
          ]
        }
      ]
    },
    {
      "cell_type": "markdown",
      "source": [
        "DreamsTime Classification"
      ],
      "metadata": {
        "id": "rnWdHLpt7DRA"
      }
    },
    {
      "cell_type": "code",
      "source": [
        "from transformers import pipeline\n",
        "\n",
        "classifier = pipeline(\"zero-shot-classification\")\n",
        "\n",
        "res = classifier(\n",
        "    \"a close up view of a green plant\",\n",
        "    candidate_labels=['Abstract -> Aerial',\n",
        "'Abstract -> Backgrounds',\n",
        "'Abstract -> Blurs',\n",
        "'Abstract -> Colors',\n",
        "'Abstract -> Competition',\n",
        "'Abstract -> Craftsmanship',\n",
        "'Abstract -> Danger',\n",
        "'Abstract -> Exploration',\n",
        "'Abstract -> Fun',\n",
        "'Abstract -> Help',\n",
        "'Abstract -> Love',\n",
        "'Abstract -> Luxury',\n",
        "'Abstract -> Mobile',\n",
        "'Abstract -> Peace',\n",
        "'Abstract -> Planetarium',\n",
        "'Abstract -> Power',\n",
        "'Abstract -> Purity',\n",
        "'Abstract -> Religion',\n",
        "'Abstract -> Seasonal & Holiday',\n",
        "'Abstract -> Security',\n",
        "'Abstract -> Sports',\n",
        "'Abstract -> Stress',\n",
        "'Abstract -> Success',\n",
        "'Abstract -> Teamwork',\n",
        "'Abstract -> Textures',\n",
        "'Abstract -> Unique',\n",
        "'Animals -> Birds',\n",
        "'Animals -> Farm',\n",
        "'Animals -> Insects',\n",
        "'Animals -> Mammals',\n",
        "'Animals -> Marine life',\n",
        "'Animals -> Pets',\n",
        "'Animals -> Reptiles & Amphibians',\n",
        "'Animals -> Rodents',\n",
        "'Animals -> Wildlife',\n",
        "'Arts & Architecture -> Details',\n",
        "'Arts & Architecture -> Generic architecture',\n",
        "'Arts & Architecture -> Historic buildings',\n",
        "'Arts & Architecture -> Home',\n",
        "'Arts & Architecture -> Indoor',\n",
        "'Arts & Architecture -> Landmarks',\n",
        "'Arts & Architecture -> Modern buildings',\n",
        "'Arts & Architecture -> Night scenes',\n",
        "'Arts & Architecture -> Outdoor',\n",
        "'Arts & Architecture -> Ruins & Ancient',\n",
        "'Arts & Architecture -> Work places',\n",
        "'Business -> Communications',\n",
        "'Business -> Computers',\n",
        "'Business -> Finance',\n",
        "'Business -> Industries',\n",
        "'Business -> Metaphors',\n",
        "'Business -> Objects',\n",
        "'Business -> People',\n",
        "'Business -> Still-life',\n",
        "'Business -> Teams',\n",
        "'Business -> Transportation',\n",
        "'Business -> Travel',\n",
        "'Editorial -> Celebrities',\n",
        "'Holidays -> Chinese New Year',\n",
        "'Holidays -> Christmas',\n",
        "'Holidays -> Cinco de Mayo',\n",
        "'Holidays -> Diwali',\n",
        "'Holidays -> Easter',\n",
        "'Holidays -> Fathers Day',\n",
        "'Holidays -> Halloween',\n",
        "'Holidays -> Hanukkah',\n",
        "'Holidays -> Mardi Gras',\n",
        "'Holidays -> Mothers Day',\n",
        "'Holidays -> New Years',\n",
        "'Holidays -> Other',\n",
        "'Holidays -> Ramadan',\n",
        "'Holidays -> Thanksgiving',\n",
        "'Holidays -> Valentines Day',\n",
        "'IT & C -> Artificial Intelligence',\n",
        "'IT & C -> Connectivity',\n",
        "'IT & C -> Equipment',\n",
        "'IT & C -> Internet',\n",
        "'IT & C -> Networking',\n",
        "'Illustrations & Clipart -> AI generated',\n",
        "'Illustrations & Clipart -> 3D & Computer generated',\n",
        "'Illustrations & Clipart -> Hand drawn & Artistic',\n",
        "'Illustrations & Clipart -> Illustrations',\n",
        "'Illustrations & Clipart -> Vector',\n",
        "'Industries -> Agriculture',\n",
        "'Industries -> Architecture',\n",
        "'Industries -> Banking',\n",
        "'Industries -> Cargo & Shipping',\n",
        "'Industries -> Communications',\n",
        "'Industries -> Computers',\n",
        "'Industries -> Construction',\n",
        "'Industries -> Education',\n",
        "'Industries -> Entertainment',\n",
        "'Industries -> Environment',\n",
        "'Industries -> Food & Beverages',\n",
        "'Industries -> Healthcare & Medical',\n",
        "'Industries -> Insurance',\n",
        "'Industries -> Legal',\n",
        "'Industries -> Manufacturing',\n",
        "'Industries -> Military',\n",
        "'Industries -> Oil and gas',\n",
        "'Industries -> Power and energy',\n",
        "'Industries -> Sports',\n",
        "'Industries -> Transportation',\n",
        "'Industries -> Travel',\n",
        "'Nature -> Clouds and skies',\n",
        "'Nature -> Deserts',\n",
        "'Nature -> Details',\n",
        "'Nature -> Fields & Meadows',\n",
        "'Nature -> Flowers & Gardens',\n",
        "'Nature -> Food ingredients',\n",
        "'Nature -> Forests',\n",
        "'Nature -> Fruits & Vegetables',\n",
        "'Nature -> Generic vegetation',\n",
        "'Nature -> Geologic and mineral',\n",
        "'Nature -> Lakes and rivers',\n",
        "'Nature -> Landscapes',\n",
        "'Nature -> Mountains',\n",
        "'Nature -> Plants and trees',\n",
        "'Nature -> Sea & Ocean',\n",
        "'Nature -> Seasons specific',\n",
        "'Nature -> Sunsets & Sunrises',\n",
        "'Nature -> Tropical',\n",
        "'Nature -> Water',\n",
        "'Nature -> Waterfalls',\n",
        "'Objects -> Clothing & Accessories',\n",
        "'Objects -> Electronics',\n",
        "'Objects -> Home related',\n",
        "'Objects -> Isolated',\n",
        "'Objects -> Music and sound',\n",
        "'Objects -> Other',\n",
        "'Objects -> Retro',\n",
        "'Objects -> Sports',\n",
        "'Objects -> Still life',\n",
        "'Objects -> Tools',\n",
        "'Objects -> Toys',\n",
        "'People -> Active',\n",
        "'People -> Body parts',\n",
        "'People -> Children',\n",
        "'People -> Cosmetic & Makeup',\n",
        "'People -> Couples',\n",
        "'People -> Diversity',\n",
        "'People -> Expressions',\n",
        "'People -> Families',\n",
        "'People -> Men',\n",
        "'People -> Nudes',\n",
        "'People -> Portraits',\n",
        "'People -> Seniors',\n",
        "'People -> Teens',\n",
        "'People -> Women',\n",
        "'People -> Workers',\n",
        "'Technology -> Computers',\n",
        "'Technology -> Connections',\n",
        "'Technology -> Electronics',\n",
        "'Technology -> Other',\n",
        "'Technology -> Retro',\n",
        "'Technology -> Science',\n",
        "'Technology -> Telecommunications',\n",
        "'Travel -> Africa',\n",
        "'Travel -> America',\n",
        "'Travel -> Antarctica',\n",
        "'Travel -> Arts & Architecture',\n",
        "'Travel -> Asia',\n",
        "'Travel -> Australasian',\n",
        "'Travel -> Cruise',\n",
        "'Travel -> Cuisine',\n",
        "'Travel -> Currencies',\n",
        "'Travel -> Destination scenics',\n",
        "'Travel -> Europe',\n",
        "'Travel -> Flags',\n",
        "'Travel -> Resorts',\n",
        "'Travel -> Tropical',]\n",
        ")\n",
        "\n",
        "print(res)\n",
        "print(res['labels'])\n",
        "print(res['scores'])"
      ],
      "metadata": {
        "id": "A6jp-RBovD80",
        "outputId": "e67aa95d-04ae-4ec2-c13e-1a80c7632b92",
        "colab": {
          "base_uri": "https://localhost:8080/"
        }
      },
      "execution_count": 8,
      "outputs": [
        {
          "output_type": "stream",
          "name": "stderr",
          "text": [
            "No model was supplied, defaulted to facebook/bart-large-mnli and revision c626438 (https://huggingface.co/facebook/bart-large-mnli).\n",
            "Using a pipeline without specifying a model name and revision in production is not recommended.\n"
          ]
        },
        {
          "output_type": "stream",
          "name": "stdout",
          "text": [
            "{'sequence': 'a close up view of a green plant', 'labels': ['Objects -> Isolated', 'Nature -> Details', 'Objects -> Other', 'Nature -> Plants and trees', 'Nature -> Seasons specific', 'Nature -> Landscapes', 'Objects -> Still life', 'Nature -> Tropical', 'Nature -> Flowers & Gardens', 'Nature -> Water', 'Abstract -> Exploration', 'Nature -> Fruits & Vegetables', 'Objects -> Retro', 'Nature -> Fields & Meadows', 'Objects -> Home related', 'Abstract -> Unique', 'Nature -> Generic vegetation', 'Business -> Objects', 'Illustrations & Clipart -> Illustrations', 'Travel -> Tropical', 'Arts & Architecture -> Outdoor', 'Arts & Architecture -> Details', 'Illustrations & Clipart -> Vector', 'Nature -> Forests', 'Illustrations & Clipart -> Hand drawn & Artistic', 'Abstract -> Colors', 'Abstract -> Textures', 'Abstract -> Craftsmanship', 'Business -> Metaphors', 'Abstract -> Help', 'Travel -> Australasian', 'Business -> Still-life', 'Industries -> Power and energy', 'Technology -> Retro', 'Illustrations & Clipart -> 3D & Computer generated', 'Abstract -> Mobile', 'Abstract -> Fun', 'Abstract -> Backgrounds', 'Technology -> Connections', 'Travel -> Destination scenics', 'Nature -> Sunsets & Sunrises', 'Abstract -> Teamwork', 'Abstract -> Purity', 'Industries -> Environment', 'Abstract -> Aerial', 'Illustrations & Clipart -> AI generated', 'Arts & Architecture -> Landmarks', 'IT & C -> Connectivity', 'Industries -> Agriculture', 'Holidays -> Chinese New Year', 'Holidays -> Other', 'Business -> Industries', 'Abstract -> Luxury', 'People -> Active', 'Nature -> Sea & Ocean', 'Arts & Architecture -> Indoor', 'Abstract -> Blurs', 'Objects -> Sports', 'Objects -> Tools', 'Abstract -> Seasonal & Holiday', 'Industries -> Architecture', 'Objects -> Music and sound', 'Nature -> Food ingredients', 'Business -> Communications', 'Abstract -> Security', 'People -> Expressions', 'Abstract -> Success', 'Technology -> Science', 'Travel -> Arts & Architecture', 'Arts & Architecture -> Night scenes', 'Industries -> Entertainment', 'Travel -> Asia', 'Travel -> Flags', 'Abstract -> Competition', 'Abstract -> Stress', 'Arts & Architecture -> Home', 'Technology -> Other', 'Objects -> Electronics', 'Industries -> Travel', 'Travel -> America', 'Animals -> Mammals', 'Abstract -> Power', 'Animals -> Insects', 'Abstract -> Planetarium', 'Animals -> Reptiles & Amphibians', 'Animals -> Wildlife', 'Animals -> Birds', 'Business -> People', 'Travel -> Resorts', 'Holidays -> Christmas', 'Abstract -> Sports', 'Business -> Teams', 'Holidays -> Diwali', 'Nature -> Mountains', 'Arts & Architecture -> Historic buildings', 'Travel -> Cruise', 'Holidays -> New Years', 'Nature -> Clouds and skies', 'People -> Workers', 'Business -> Travel', 'Holidays -> Hanukkah', 'Animals -> Pets', 'Holidays -> Cinco de Mayo', 'Nature -> Geologic and mineral', 'IT & C -> Equipment', 'Industries -> Legal', 'Industries -> Communications', 'Travel -> Cuisine', 'Travel -> Africa', 'People -> Portraits', 'Travel -> Currencies', 'Animals -> Rodents', 'Arts & Architecture -> Ruins & Ancient', 'Industries -> Manufacturing', 'People -> Couples', 'Holidays -> Fathers Day', 'People -> Women', 'Nature -> Waterfalls', 'Business -> Transportation', 'Industries -> Cargo & Shipping', 'People -> Diversity', 'Business -> Computers', 'Holidays -> Mothers Day', 'Holidays -> Mardi Gras', 'IT & C -> Internet', 'Holidays -> Easter', 'Objects -> Toys', 'Animals -> Farm', 'People -> Seniors', 'Objects -> Clothing & Accessories', 'Abstract -> Peace', 'Animals -> Marine life', 'Nature -> Lakes and rivers', 'People -> Families', 'People -> Children', 'Holidays -> Thanksgiving', 'People -> Nudes', 'Travel -> Europe', 'Industries -> Healthcare & Medical', 'Technology -> Telecommunications', 'People -> Men', 'Industries -> Sports', 'Abstract -> Love', 'Holidays -> Valentines Day', 'Industries -> Construction', 'Industries -> Transportation', 'Business -> Finance', 'Arts & Architecture -> Modern buildings', 'Industries -> Computers', 'IT & C -> Networking', 'Arts & Architecture -> Generic architecture', 'Holidays -> Ramadan', 'Editorial -> Celebrities', 'People -> Cosmetic & Makeup', 'People -> Teens', 'Arts & Architecture -> Work places', 'Abstract -> Religion', 'People -> Body parts', 'Nature -> Deserts', 'Abstract -> Danger', 'Industries -> Banking', 'Industries -> Food & Beverages', 'Industries -> Education', 'Technology -> Electronics', 'Technology -> Computers', 'Industries -> Insurance', 'IT & C -> Artificial Intelligence', 'Holidays -> Halloween', 'Industries -> Oil and gas', 'Industries -> Military', 'Travel -> Antarctica'], 'scores': [0.04893425107002258, 0.04704150930047035, 0.032340750098228455, 0.029562687501311302, 0.026394737884402275, 0.022310862317681313, 0.0204079020768404, 0.019408730790019035, 0.019080819562077522, 0.018831461668014526, 0.016907092183828354, 0.01620146445930004, 0.0151700209826231, 0.014847512356936932, 0.012914570979773998, 0.01180188823491335, 0.011252540163695812, 0.010943679139018059, 0.01093271654099226, 0.010214951820671558, 0.0101014981046319, 0.010024284943938255, 0.009698087349534035, 0.009540943428874016, 0.009081925265491009, 0.009059042669832706, 0.008964752778410912, 0.008459721691906452, 0.008401209488511086, 0.007614078465849161, 0.007440848276019096, 0.00707063777372241, 0.0068642757833004, 0.006731158588081598, 0.006607469171285629, 0.006603068672120571, 0.006399010773748159, 0.0063475086353719234, 0.006115518510341644, 0.006071330979466438, 0.005955951288342476, 0.0059179565869271755, 0.005813061725348234, 0.005794197786599398, 0.005594675894826651, 0.005553732626140118, 0.005396267399191856, 0.005327693652361631, 0.00522138737142086, 0.005219229497015476, 0.005217042751610279, 0.004975678399205208, 0.004963188897818327, 0.004924378823488951, 0.004912123084068298, 0.004885854199528694, 0.004810959566384554, 0.004675031173974276, 0.004657129291445017, 0.004633372649550438, 0.004510584753006697, 0.00443982845172286, 0.004338197410106659, 0.004286450799554586, 0.004254576750099659, 0.0042194039560854435, 0.0041717058047652245, 0.0041577573865652084, 0.00414404459297657, 0.004138041753321886, 0.003968489356338978, 0.003965354990214109, 0.003912086132913828, 0.003897341899573803, 0.0038322529289871454, 0.003814742900431156, 0.0037847228813916445, 0.003758790669962764, 0.003714771242812276, 0.00369867286644876, 0.0036527810152620077, 0.0036481923889368773, 0.0036060987040400505, 0.0035453226882964373, 0.00353534915484488, 0.003509837668389082, 0.0034626522101461887, 0.003461221931502223, 0.0034607581328600645, 0.003456086851656437, 0.003427869640290737, 0.0033913305960595608, 0.0033596865832805634, 0.0033517819829285145, 0.0032967638690024614, 0.003295738250017166, 0.0032632416114211082, 0.0032624886371195316, 0.003257699077948928, 0.003243295941501856, 0.0031188547145575285, 0.003096841974183917, 0.003087360877543688, 0.003060994204133749, 0.0030521959997713566, 0.0030031846836209297, 0.0029645299073308706, 0.002959141042083502, 0.0029041701927781105, 0.002884818473830819, 0.0028796964325010777, 0.0028559649363160133, 0.0028365536127239466, 0.0028054765425622463, 0.0027984841726720333, 0.002777207875624299, 0.0027561464812606573, 0.002722357399761677, 0.0027123582549393177, 0.0027113512624055147, 0.0027105549816042185, 0.0027019206900149584, 0.0026960335671901703, 0.002665051957592368, 0.0026528388261795044, 0.00265274615958333, 0.002641720464453101, 0.00263291341252625, 0.002627576468512416, 0.002622098196297884, 0.0025524224620312452, 0.0024926643818616867, 0.0024728626012802124, 0.0024620427284389734, 0.0024514677934348583, 0.002442258642986417, 0.002423411002382636, 0.002421068958938122, 0.002400944009423256, 0.0023677938152104616, 0.00236074673011899, 0.00234878808259964, 0.0023468099534511566, 0.0023182989098131657, 0.0023177338298410177, 0.0023123181890696287, 0.002284771529957652, 0.0022740885615348816, 0.0022295955568552017, 0.002213540021330118, 0.002184545388445258, 0.0021842403803020716, 0.002158823888748884, 0.002151637338101864, 0.002145173028111458, 0.0021382977720350027, 0.0021308939903974533, 0.0021179302129894495, 0.0021034383680671453, 0.002069297479465604, 0.002059193328022957, 0.0020567872561514378, 0.002045930363237858, 0.0020242647733539343, 0.0018923806492239237, 0.001856539980508387, 0.0018478245474398136, 0.0018066789489239454, 0.0017518142703920603, 0.001508310786448419, 0.0010396561119705439]}\n",
            "['Objects -> Isolated', 'Nature -> Details', 'Objects -> Other', 'Nature -> Plants and trees', 'Nature -> Seasons specific', 'Nature -> Landscapes', 'Objects -> Still life', 'Nature -> Tropical', 'Nature -> Flowers & Gardens', 'Nature -> Water', 'Abstract -> Exploration', 'Nature -> Fruits & Vegetables', 'Objects -> Retro', 'Nature -> Fields & Meadows', 'Objects -> Home related', 'Abstract -> Unique', 'Nature -> Generic vegetation', 'Business -> Objects', 'Illustrations & Clipart -> Illustrations', 'Travel -> Tropical', 'Arts & Architecture -> Outdoor', 'Arts & Architecture -> Details', 'Illustrations & Clipart -> Vector', 'Nature -> Forests', 'Illustrations & Clipart -> Hand drawn & Artistic', 'Abstract -> Colors', 'Abstract -> Textures', 'Abstract -> Craftsmanship', 'Business -> Metaphors', 'Abstract -> Help', 'Travel -> Australasian', 'Business -> Still-life', 'Industries -> Power and energy', 'Technology -> Retro', 'Illustrations & Clipart -> 3D & Computer generated', 'Abstract -> Mobile', 'Abstract -> Fun', 'Abstract -> Backgrounds', 'Technology -> Connections', 'Travel -> Destination scenics', 'Nature -> Sunsets & Sunrises', 'Abstract -> Teamwork', 'Abstract -> Purity', 'Industries -> Environment', 'Abstract -> Aerial', 'Illustrations & Clipart -> AI generated', 'Arts & Architecture -> Landmarks', 'IT & C -> Connectivity', 'Industries -> Agriculture', 'Holidays -> Chinese New Year', 'Holidays -> Other', 'Business -> Industries', 'Abstract -> Luxury', 'People -> Active', 'Nature -> Sea & Ocean', 'Arts & Architecture -> Indoor', 'Abstract -> Blurs', 'Objects -> Sports', 'Objects -> Tools', 'Abstract -> Seasonal & Holiday', 'Industries -> Architecture', 'Objects -> Music and sound', 'Nature -> Food ingredients', 'Business -> Communications', 'Abstract -> Security', 'People -> Expressions', 'Abstract -> Success', 'Technology -> Science', 'Travel -> Arts & Architecture', 'Arts & Architecture -> Night scenes', 'Industries -> Entertainment', 'Travel -> Asia', 'Travel -> Flags', 'Abstract -> Competition', 'Abstract -> Stress', 'Arts & Architecture -> Home', 'Technology -> Other', 'Objects -> Electronics', 'Industries -> Travel', 'Travel -> America', 'Animals -> Mammals', 'Abstract -> Power', 'Animals -> Insects', 'Abstract -> Planetarium', 'Animals -> Reptiles & Amphibians', 'Animals -> Wildlife', 'Animals -> Birds', 'Business -> People', 'Travel -> Resorts', 'Holidays -> Christmas', 'Abstract -> Sports', 'Business -> Teams', 'Holidays -> Diwali', 'Nature -> Mountains', 'Arts & Architecture -> Historic buildings', 'Travel -> Cruise', 'Holidays -> New Years', 'Nature -> Clouds and skies', 'People -> Workers', 'Business -> Travel', 'Holidays -> Hanukkah', 'Animals -> Pets', 'Holidays -> Cinco de Mayo', 'Nature -> Geologic and mineral', 'IT & C -> Equipment', 'Industries -> Legal', 'Industries -> Communications', 'Travel -> Cuisine', 'Travel -> Africa', 'People -> Portraits', 'Travel -> Currencies', 'Animals -> Rodents', 'Arts & Architecture -> Ruins & Ancient', 'Industries -> Manufacturing', 'People -> Couples', 'Holidays -> Fathers Day', 'People -> Women', 'Nature -> Waterfalls', 'Business -> Transportation', 'Industries -> Cargo & Shipping', 'People -> Diversity', 'Business -> Computers', 'Holidays -> Mothers Day', 'Holidays -> Mardi Gras', 'IT & C -> Internet', 'Holidays -> Easter', 'Objects -> Toys', 'Animals -> Farm', 'People -> Seniors', 'Objects -> Clothing & Accessories', 'Abstract -> Peace', 'Animals -> Marine life', 'Nature -> Lakes and rivers', 'People -> Families', 'People -> Children', 'Holidays -> Thanksgiving', 'People -> Nudes', 'Travel -> Europe', 'Industries -> Healthcare & Medical', 'Technology -> Telecommunications', 'People -> Men', 'Industries -> Sports', 'Abstract -> Love', 'Holidays -> Valentines Day', 'Industries -> Construction', 'Industries -> Transportation', 'Business -> Finance', 'Arts & Architecture -> Modern buildings', 'Industries -> Computers', 'IT & C -> Networking', 'Arts & Architecture -> Generic architecture', 'Holidays -> Ramadan', 'Editorial -> Celebrities', 'People -> Cosmetic & Makeup', 'People -> Teens', 'Arts & Architecture -> Work places', 'Abstract -> Religion', 'People -> Body parts', 'Nature -> Deserts', 'Abstract -> Danger', 'Industries -> Banking', 'Industries -> Food & Beverages', 'Industries -> Education', 'Technology -> Electronics', 'Technology -> Computers', 'Industries -> Insurance', 'IT & C -> Artificial Intelligence', 'Holidays -> Halloween', 'Industries -> Oil and gas', 'Industries -> Military', 'Travel -> Antarctica']\n",
            "[0.04893425107002258, 0.04704150930047035, 0.032340750098228455, 0.029562687501311302, 0.026394737884402275, 0.022310862317681313, 0.0204079020768404, 0.019408730790019035, 0.019080819562077522, 0.018831461668014526, 0.016907092183828354, 0.01620146445930004, 0.0151700209826231, 0.014847512356936932, 0.012914570979773998, 0.01180188823491335, 0.011252540163695812, 0.010943679139018059, 0.01093271654099226, 0.010214951820671558, 0.0101014981046319, 0.010024284943938255, 0.009698087349534035, 0.009540943428874016, 0.009081925265491009, 0.009059042669832706, 0.008964752778410912, 0.008459721691906452, 0.008401209488511086, 0.007614078465849161, 0.007440848276019096, 0.00707063777372241, 0.0068642757833004, 0.006731158588081598, 0.006607469171285629, 0.006603068672120571, 0.006399010773748159, 0.0063475086353719234, 0.006115518510341644, 0.006071330979466438, 0.005955951288342476, 0.0059179565869271755, 0.005813061725348234, 0.005794197786599398, 0.005594675894826651, 0.005553732626140118, 0.005396267399191856, 0.005327693652361631, 0.00522138737142086, 0.005219229497015476, 0.005217042751610279, 0.004975678399205208, 0.004963188897818327, 0.004924378823488951, 0.004912123084068298, 0.004885854199528694, 0.004810959566384554, 0.004675031173974276, 0.004657129291445017, 0.004633372649550438, 0.004510584753006697, 0.00443982845172286, 0.004338197410106659, 0.004286450799554586, 0.004254576750099659, 0.0042194039560854435, 0.0041717058047652245, 0.0041577573865652084, 0.00414404459297657, 0.004138041753321886, 0.003968489356338978, 0.003965354990214109, 0.003912086132913828, 0.003897341899573803, 0.0038322529289871454, 0.003814742900431156, 0.0037847228813916445, 0.003758790669962764, 0.003714771242812276, 0.00369867286644876, 0.0036527810152620077, 0.0036481923889368773, 0.0036060987040400505, 0.0035453226882964373, 0.00353534915484488, 0.003509837668389082, 0.0034626522101461887, 0.003461221931502223, 0.0034607581328600645, 0.003456086851656437, 0.003427869640290737, 0.0033913305960595608, 0.0033596865832805634, 0.0033517819829285145, 0.0032967638690024614, 0.003295738250017166, 0.0032632416114211082, 0.0032624886371195316, 0.003257699077948928, 0.003243295941501856, 0.0031188547145575285, 0.003096841974183917, 0.003087360877543688, 0.003060994204133749, 0.0030521959997713566, 0.0030031846836209297, 0.0029645299073308706, 0.002959141042083502, 0.0029041701927781105, 0.002884818473830819, 0.0028796964325010777, 0.0028559649363160133, 0.0028365536127239466, 0.0028054765425622463, 0.0027984841726720333, 0.002777207875624299, 0.0027561464812606573, 0.002722357399761677, 0.0027123582549393177, 0.0027113512624055147, 0.0027105549816042185, 0.0027019206900149584, 0.0026960335671901703, 0.002665051957592368, 0.0026528388261795044, 0.00265274615958333, 0.002641720464453101, 0.00263291341252625, 0.002627576468512416, 0.002622098196297884, 0.0025524224620312452, 0.0024926643818616867, 0.0024728626012802124, 0.0024620427284389734, 0.0024514677934348583, 0.002442258642986417, 0.002423411002382636, 0.002421068958938122, 0.002400944009423256, 0.0023677938152104616, 0.00236074673011899, 0.00234878808259964, 0.0023468099534511566, 0.0023182989098131657, 0.0023177338298410177, 0.0023123181890696287, 0.002284771529957652, 0.0022740885615348816, 0.0022295955568552017, 0.002213540021330118, 0.002184545388445258, 0.0021842403803020716, 0.002158823888748884, 0.002151637338101864, 0.002145173028111458, 0.0021382977720350027, 0.0021308939903974533, 0.0021179302129894495, 0.0021034383680671453, 0.002069297479465604, 0.002059193328022957, 0.0020567872561514378, 0.002045930363237858, 0.0020242647733539343, 0.0018923806492239237, 0.001856539980508387, 0.0018478245474398136, 0.0018066789489239454, 0.0017518142703920603, 0.001508310786448419, 0.0010396561119705439]\n"
          ]
        }
      ]
    }
  ]
}