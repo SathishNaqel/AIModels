{
  "nbformat": 4,
  "nbformat_minor": 0,
  "metadata": {
    "colab": {
      "provenance": [],
      "authorship_tag": "ABX9TyMkhD2Bi0kZMsQBcQHDh83Y",
      "include_colab_link": true
    },
    "kernelspec": {
      "name": "python3",
      "display_name": "Python 3"
    },
    "language_info": {
      "name": "python"
    }
  },
  "cells": [
    {
      "cell_type": "markdown",
      "metadata": {
        "id": "view-in-github",
        "colab_type": "text"
      },
      "source": [
        "<a href=\"https://colab.research.google.com/github/SathishNaqel/AIModels/blob/main/Classification.ipynb\" target=\"_parent\"><img src=\"https://colab.research.google.com/assets/colab-badge.svg\" alt=\"Open In Colab\"/></a>"
      ]
    },
    {
      "cell_type": "code",
      "execution_count": null,
      "metadata": {
        "id": "RKfhkSa9mMlz"
      },
      "outputs": [],
      "source": [
        "!pip install transformers"
      ]
    },
    {
      "cell_type": "code",
      "source": [
        "from transformers import pipeline\n",
        "\n",
        "classifier = pipeline(\"zero-shot-classification\")\n",
        "\n",
        "res = classifier(\n",
        "    \"a city street at night with a statue in the background\",\n",
        "    candidate_labels=[\"Transportation\",\"Nature\",\"Abstract\",\"Healthcare/Medical\",\"Holidays\"]\n",
        ")\n",
        "\n",
        "print(res)"
      ],
      "metadata": {
        "colab": {
          "base_uri": "https://localhost:8080/"
        },
        "id": "6Rd56FTkmNFJ",
        "outputId": "ef2f86e8-cf18-4b4c-be2b-cf36d68c2c08"
      },
      "execution_count": 4,
      "outputs": [
        {
          "output_type": "stream",
          "name": "stderr",
          "text": [
            "No model was supplied, defaulted to facebook/bart-large-mnli and revision c626438 (https://huggingface.co/facebook/bart-large-mnli).\n",
            "Using a pipeline without specifying a model name and revision in production is not recommended.\n"
          ]
        },
        {
          "output_type": "stream",
          "name": "stdout",
          "text": [
            "{'sequence': 'a city street at night with a statue in the background', 'labels': ['Transportation', 'Abstract', 'Nature', 'Healthcare/Medical', 'Holidays'], 'scores': [0.39073827862739563, 0.38231906294822693, 0.10752509534358978, 0.0709182545542717, 0.04849932715296745]}\n"
          ]
        }
      ]
    }
  ]
}